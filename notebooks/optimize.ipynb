{
  "nbformat": 4,
  "nbformat_minor": 0,
  "metadata": {
    "kernelspec": {
      "display_name": "tagifai",
      "language": "python",
      "name": "tagifai"
    },
    "language_info": {
      "codemirror_mode": {
        "name": "ipython",
        "version": 3
      },
      "file_extension": ".py",
      "mimetype": "text/x-python",
      "name": "python",
      "nbconvert_exporter": "python",
      "pygments_lexer": "ipython3",
      "version": "3.6.9-final"
    },
    "colab": {
      "name": "optimize.ipynb",
      "provenance": [],
      "collapsed_sections": [],
      "toc_visible": true
    },
    "accelerator": "GPU"
  },
  "cells": [
    {
      "cell_type": "markdown",
      "metadata": {
        "id": "LPZmAUydQIC9"
      },
      "source": [
        "<div align=\"center\">\n",
        "<h1><img width=\"30\" src=\"https://madewithml.com/static/images/rounded_logo.png\">&nbsp;<a href=\"https://madewithml.com/\">Made With ML</a></h1>\n",
        "Applied ML · MLOps · Production\n",
        "<br>\n",
        "Join 20K+ developers in learning how to responsibly <a href=\"https://madewithml.com/about/\">deliver value</a> with applied ML.\n",
        "</div>\n",
        "\n",
        "<br>\n",
        "\n",
        "<div align=\"center\">\n",
        "    <a target=\"_blank\" href=\"https://madewithml.com/subscribe/\"><img src=\"https://img.shields.io/badge/Subscribe-20K-brightgreen\"></a>&nbsp;\n",
        "    <a target=\"_blank\" href=\"https://github.com/GokuMohandas/madewithml\"><img src=\"https://img.shields.io/github/stars/GokuMohandas/madewithml.svg?style=social&label=Star\"></a>&nbsp;\n",
        "    <a target=\"_blank\" href=\"https://www.linkedin.com/in/goku\"><img src=\"https://img.shields.io/badge/style--5eba00.svg?label=LinkedIn&logo=linkedin&style=social\"></a>&nbsp;\n",
        "    <a target=\"_blank\" href=\"https://twitter.com/GokuMohandas\"><img src=\"https://img.shields.io/twitter/follow/GokuMohandas.svg?label=Follow&style=social\"></a>\n",
        "    <p>🔥&nbsp; Among the <a href=\"https://github.com/topics/deep-learning\" target=\"_blank\">top ML</a> repositories on GitHub</p>\n",
        "</div>\n",
        "\n",
        "<br>\n",
        "<hr>"
      ]
    },
    {
      "cell_type": "markdown",
      "metadata": {
        "id": "L7--e8qjzvte"
      },
      "source": [
        "# Optimize (GPU)"
      ]
    },
    {
      "cell_type": "markdown",
      "metadata": {
        "id": "IRyA7luizvtf"
      },
      "source": [
        "Use this notebooks to run hyperparameter optimization on Google Colab and utilize it's free GPUs."
      ]
    },
    {
      "cell_type": "code",
      "metadata": {
        "id": "HacuZe08zvtf"
      },
      "source": [
        "# In case you update the code after installing\n",
        "%load_ext autoreload\n",
        "%autoreload 2"
      ],
      "execution_count": null,
      "outputs": []
    },
    {
      "cell_type": "markdown",
      "metadata": {
        "id": "rOAOZ5NJzvtl"
      },
      "source": [
        "## Clone repository"
      ]
    },
    {
      "cell_type": "code",
      "metadata": {
        "id": "dC_KGdE6zvtl"
      },
      "source": [
        "# Load repository\n",
        "!git clone https://github.com/GokuMohandas/applied-ml.git"
      ],
      "execution_count": null,
      "outputs": []
    },
    {
      "cell_type": "code",
      "metadata": {
        "id": "aiKzsC9kzvtn"
      },
      "source": [
        "# Files\n",
        "% cd applied-ml\n",
        "!ls"
      ],
      "execution_count": null,
      "outputs": []
    },
    {
      "cell_type": "markdown",
      "metadata": {
        "id": "LnZVQRcZzvtp"
      },
      "source": [
        "## Setup"
      ]
    },
    {
      "cell_type": "code",
      "metadata": {
        "id": "lKp6B4M478m_"
      },
      "source": [
        "# Use latest pip\n",
        "!pip install --upgrade pip"
      ],
      "execution_count": null,
      "outputs": []
    },
    {
      "cell_type": "code",
      "metadata": {
        "id": "Wdx2DRGjzvtq"
      },
      "source": [
        "# Set up\n",
        "!make install-dev"
      ],
      "execution_count": null,
      "outputs": []
    },
    {
      "cell_type": "markdown",
      "metadata": {
        "id": "wzxXb5mjzvts"
      },
      "source": [
        "## Optimize"
      ]
    },
    {
      "cell_type": "code",
      "metadata": {
        "id": "O4oQwat9Syf7"
      },
      "source": [
        "from tagifai import main"
      ],
      "execution_count": null,
      "outputs": []
    },
    {
      "cell_type": "code",
      "metadata": {
        "id": "0PzQcqIuKLkU"
      },
      "source": [
        "# Download data\n",
        "main.download_data()"
      ],
      "execution_count": null,
      "outputs": []
    },
    {
      "cell_type": "code",
      "metadata": {
        "id": "ZsPyGrZYIsmA"
      },
      "source": [
        "# Check if data downloaded\n",
        "!ls assets/data"
      ],
      "execution_count": null,
      "outputs": []
    },
    {
      "cell_type": "code",
      "metadata": {
        "id": "DeRjiOqXzvtx"
      },
      "source": [
        "# Optimize\n",
        "main.optimize(num_trials=50)"
      ],
      "execution_count": null,
      "outputs": []
    },
    {
      "cell_type": "code",
      "metadata": {
        "id": "eOT46qHmD1ZR"
      },
      "source": [
        "# Train best model (saving artifacts this time)\n",
        "main.train_model()"
      ],
      "execution_count": null,
      "outputs": []
    },
    {
      "cell_type": "markdown",
      "metadata": {
        "id": "w8Wm1xPl0HyF"
      },
      "source": [
        "## Download"
      ]
    },
    {
      "cell_type": "markdown",
      "metadata": {
        "id": "uJrowj_lzvtz"
      },
      "source": [
        "Download and transfer files to your local system and run the command `tagifai set-artifact-metadata` to match all metadata as if it were run from your machine."
      ]
    },
    {
      "cell_type": "code",
      "metadata": {
        "id": "lEkEtbaX0LbU"
      },
      "source": [
        "from google.colab import files"
      ],
      "execution_count": null,
      "outputs": []
    },
    {
      "cell_type": "code",
      "metadata": {
        "id": "LJeRbLxh0NxV"
      },
      "source": [
        "# Download\n",
        "!zip -r best.zip assets/experiments/1\n",
        "files.download('best.zip') \n",
        "files.download('assets/experiments/trials.csv')\n",
        "files.download('config/args.json') "
      ],
      "execution_count": null,
      "outputs": []
    }
  ]
}